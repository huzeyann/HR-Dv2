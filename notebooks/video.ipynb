{
 "cells": [
  {
   "cell_type": "code",
   "execution_count": 1,
   "metadata": {},
   "outputs": [],
   "source": [
    "# Imports\n",
    "import torch\n",
    "torch.cuda.empty_cache()\n",
    "\n",
    "from hr_dv2.utils import *\n",
    "from hr_dv2 import tr\n",
    "import numpy as np\n",
    "from PIL import Image\n",
    "from sklearn.decomposition import PCA\n",
    "import matplotlib.pyplot as plt\n",
    "\n",
    "from torchvision.io import read_video\n",
    "\n",
    "from typing import Tuple, List, Any, TypedDict, TypeAlias\n",
    "\n",
    "ArrList: TypeAlias = List[np.ndarray]\n",
    "\n",
    "IMG_SIZE = 518\n",
    "PATCH_SIZE  = 14\n",
    "PATCH_H, PATCH_W = IMG_SIZE // PATCH_SIZE, IMG_SIZE // PATCH_SIZE\n",
    "FEAT_DIM = 384\n",
    "\n",
    "H, W = int(438 * 0.5), int(775 * 0.5)\n",
    "sub_h: int = H % 14\n",
    "sub_w: int = W % 14\n",
    "new_h, new_w = H - sub_h, W - sub_w\n",
    "\n",
    "\n",
    "frame_transform = tr.transforms.Compose(\n",
    "    [\n",
    "    tr.transforms.Resize((H, W)),\n",
    "    tr.transforms.CenterCrop((new_h, new_w)),\n",
    "    tr.transforms.Normalize(mean=(0.485, 0.456, 0.406), std=(0.229, 0.224, 0.225)),\n",
    "    ]\n",
    ")\n"
   ]
  },
  {
   "cell_type": "code",
   "execution_count": 2,
   "metadata": {},
   "outputs": [
    {
     "data": {
      "text/plain": [
       "(219, 387)"
      ]
     },
     "execution_count": 2,
     "metadata": {},
     "output_type": "execute_result"
    }
   ],
   "source": [
    "H, W"
   ]
  },
  {
   "cell_type": "code",
   "execution_count": 3,
   "metadata": {},
   "outputs": [
    {
     "name": "stderr",
     "output_type": "stream",
     "text": [
      "/home/ronan/Documents/uni_work/phd/ViT_testing/.venv/lib/python3.10/site-packages/torchvision/io/video.py:161: UserWarning: The pts_unit 'pts' gives wrong results. Please use pts_unit 'sec'.\n",
      "  warnings.warn(\"The pts_unit 'pts' gives wrong results. Please use pts_unit 'sec'.\")\n"
     ]
    }
   ],
   "source": [
    "raw_video, _, _ = read_video(\"data/dog_video_half.mp4\")\n",
    "raw_video = raw_video.to(torch.float16)"
   ]
  },
  {
   "cell_type": "code",
   "execution_count": 10,
   "metadata": {},
   "outputs": [],
   "source": [
    "transformed_frames = []\n",
    "for frame in raw_video:\n",
    "    frame = frame.permute((2, 0, 1))\n",
    "    cropped = frame_transform(frame)\n",
    "    transformed_frames.append(cropped)"
   ]
  },
  {
   "cell_type": "code",
   "execution_count": 15,
   "metadata": {},
   "outputs": [
    {
     "data": {
      "text/plain": [
       "[0, 104, 208, 312, 416]"
      ]
     },
     "execution_count": 15,
     "metadata": {},
     "output_type": "execute_result"
    }
   ],
   "source": [
    "subsample_idxs = [i * (419 // 4) for i in range(5)]\n",
    "subsample_idxs"
   ]
  },
  {
   "cell_type": "code",
   "execution_count": null,
   "metadata": {},
   "outputs": [],
   "source": [
    "from hr_dv2 import HighResDV2\n",
    "\n",
    "shifts = [i for i in range(1, 3)]\n",
    "net = HighResDV2(\"dinov2_vits14\", 4)\n",
    "transforms, inv_transforms = tr.get_shift_transforms(shifts, 'Moore')\n",
    "net.set_transforms(transforms, inv_transforms)\n",
    "\n",
    "net.cuda()\n",
    "net.eval()\n",
    "pass"
   ]
  }
 ],
 "metadata": {
  "kernelspec": {
   "display_name": ".venv",
   "language": "python",
   "name": "python3"
  },
  "language_info": {
   "codemirror_mode": {
    "name": "ipython",
    "version": 3
   },
   "file_extension": ".py",
   "mimetype": "text/x-python",
   "name": "python",
   "nbconvert_exporter": "python",
   "pygments_lexer": "ipython3",
   "version": "3.10.12"
  }
 },
 "nbformat": 4,
 "nbformat_minor": 2
}
