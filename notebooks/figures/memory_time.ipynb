{
 "cells": [
  {
   "cell_type": "code",
   "execution_count": 1,
   "metadata": {},
   "outputs": [
    {
     "name": "stderr",
     "output_type": "stream",
     "text": [
      "/home/ronan/HR-Dv2/.venv/lib/python3.10/site-packages/tqdm/auto.py:21: TqdmWarning: IProgress not found. Please update jupyter and ipywidgets. See https://ipywidgets.readthedocs.io/en/stable/user_install.html\n",
      "  from .autonotebook import tqdm as notebook_tqdm\n"
     ]
    }
   ],
   "source": [
    "# jbu vs strided vs ours (memory, time)\n",
    "# # Imports\n",
    "import torch\n",
    "from torch import nn\n",
    "torch.cuda.empty_cache()\n",
    "from torch.nn.functional import interpolate\n",
    "\n",
    "from hr_dv2 import HighResDV2\n",
    "import hr_dv2.transform as tr\n",
    "import numpy as np\n",
    "from PIL import Image\n",
    "import matplotlib.pyplot as plt\n",
    "from time import time_ns\n",
    "\n",
    "torch.manual_seed(0)\n",
    "np.random.seed(0)\n",
    "\n",
    "from featup.util import norm, unnorm\n",
    "use_norm = True\n"
   ]
  },
  {
   "cell_type": "code",
   "execution_count": 2,
   "metadata": {},
   "outputs": [],
   "source": [
    "def load_img(path: str, l: int) -> tuple[torch.Tensor, np.ndarray]:\n",
    "    temp_img = Image.open(path)\n",
    "    h, w = temp_img.height, temp_img.width\n",
    "    #transform = tr.closest_crop(h, w) #tr.get_input_transform(L, L)\n",
    "    transform = tr.get_input_transform(l, l)\n",
    "    tensor, img = tr.load_image(path, transform)\n",
    "    H, W = img.height, img.width\n",
    "    return tensor, np.array(img)"
   ]
  },
  {
   "cell_type": "code",
   "execution_count": 3,
   "metadata": {},
   "outputs": [],
   "source": [
    "\n",
    "def get_net(strided=False) -> nn.Module:\n",
    "    net = HighResDV2(\"dinov2_vits14_reg\", 4, dtype=torch.float16) #dino_vits8 #dinov2_vits14_reg\n",
    "    net.interpolation_mode = 'nearest-exact'\n",
    "    net.eval()\n",
    "    net.cuda()\n",
    "\n",
    "    fwd_shift, inv_shift = tr.get_shift_transforms([1, 2], 'Moore')\n",
    "    fwd_flip, inv_flip = tr.get_flip_transforms()\n",
    "    fwd, inv = tr.combine_transforms(fwd_shift, fwd_flip, inv_shift, inv_flip)\n",
    "    if strided:\n",
    "        net.set_transforms([], [])\n",
    "    else:\n",
    "        net.set_transforms(fwd_shift, inv_shift)\n",
    "    return net"
   ]
  },
  {
   "cell_type": "code",
   "execution_count": 4,
   "metadata": {},
   "outputs": [],
   "source": [
    "def get_jbu() -> torch.nn.Module:\n",
    "    jbu = torch.hub.load(\"mhamilton723/FeatUp\", 'dinov2', use_norm=True)\n",
    "    jbu.eval()\n",
    "    jbu.cuda()\n",
    "    return jbu"
   ]
  },
  {
   "cell_type": "code",
   "execution_count": 5,
   "metadata": {},
   "outputs": [
    {
     "name": "stderr",
     "output_type": "stream",
     "text": [
      "/home/ronan/HR-Dv2/.venv/lib/python3.10/site-packages/torch/cuda/__init__.py:546: UserWarning: Can't initialize NVML\n",
      "  warnings.warn(\"Can't initialize NVML\")\n"
     ]
    }
   ],
   "source": [
    "img_tensor, img_arr = load_img('fig_data/1.jpg', 350)\n",
    "#img_tensor = img_tensor.to(torch.half)\n",
    "img_tensor = img_tensor.cuda().unsqueeze(0)\n",
    "pass"
   ]
  },
  {
   "cell_type": "code",
   "execution_count": 6,
   "metadata": {},
   "outputs": [],
   "source": [
    "def measure_mem_time(inp: torch.Tensor, model: nn.Module) -> tuple[float, float]:\n",
    "    if type(model) == HighResDV2:\n",
    "        inp = inp.squeeze(0)\n",
    "\n",
    "    torch.cuda.reset_peak_memory_stats()\n",
    "    def _to_MB(x: int) -> float:\n",
    "        return x / (1024**2)\n",
    "\n",
    "    def _to_s(t: int) -> float:\n",
    "        return t / 1e9\n",
    "\n",
    "    start_m = torch.cuda.max_memory_allocated()\n",
    "    start_t = time_ns()\n",
    "    \n",
    "    model.forward(inp)\n",
    "\n",
    "    end_m = torch.cuda.max_memory_allocated()\n",
    "    end_t = time_ns()\n",
    "\n",
    "    return _to_MB(end_m - start_m), _to_s(end_t - start_t)"
   ]
  },
  {
   "cell_type": "code",
   "execution_count": 7,
   "metadata": {},
   "outputs": [],
   "source": [
    "#mem, time = measure_mem_time(img_tensor, net)\n",
    "\n",
    "#print(mem, time)"
   ]
  },
  {
   "cell_type": "code",
   "execution_count": 8,
   "metadata": {},
   "outputs": [
    {
     "name": "stdout",
     "output_type": "stream",
     "text": [
      "[224, 224, 280, 336, 392, 448, 504, 560, 616, 672, 728]\n"
     ]
    },
    {
     "name": "stderr",
     "output_type": "stream",
     "text": [
      "Using cache found in /home/ronan/.cache/torch/hub/facebookresearch_dinov2_main\n",
      "/home/ronan/.cache/torch/hub/facebookresearch_dinov2_main/dinov2/layers/swiglu_ffn.py:43: UserWarning: xFormers is available (SwiGLU)\n",
      "  warnings.warn(\"xFormers is available (SwiGLU)\")\n",
      "/home/ronan/.cache/torch/hub/facebookresearch_dinov2_main/dinov2/layers/attention.py:27: UserWarning: xFormers is available (Attention)\n",
      "  warnings.warn(\"xFormers is available (Attention)\")\n",
      "/home/ronan/.cache/torch/hub/facebookresearch_dinov2_main/dinov2/layers/block.py:33: UserWarning: xFormers is available (Block)\n",
      "  warnings.warn(\"xFormers is available (Block)\")\n",
      "Using cache found in /home/ronan/.cache/torch/hub/facebookresearch_dinov2_main\n",
      "Using cache found in /home/ronan/.cache/torch/hub/mhamilton723_FeatUp_main\n",
      "/home/ronan/HR-Dv2/.venv/lib/python3.10/site-packages/featup-0.1.2-py3.10-linux-x86_64.egg/featup/featurizers/dinov2/layers/swiglu_ffn.py:43: UserWarning: xFormers is available (SwiGLU)\n",
      "  warnings.warn(\"xFormers is available (SwiGLU)\")\n",
      "/home/ronan/HR-Dv2/.venv/lib/python3.10/site-packages/featup-0.1.2-py3.10-linux-x86_64.egg/featup/featurizers/dinov2/layers/attention.py:27: UserWarning: xFormers is available (Attention)\n",
      "  warnings.warn(\"xFormers is available (Attention)\")\n",
      "/home/ronan/HR-Dv2/.venv/lib/python3.10/site-packages/featup-0.1.2-py3.10-linux-x86_64.egg/featup/featurizers/dinov2/layers/block.py:33: UserWarning: xFormers is available (Block)\n",
      "  warnings.warn(\"xFormers is available (Block)\")\n",
      "Using cache found in /home/ronan/.cache/torch/hub/facebookresearch_dinov2_main\n"
     ]
    }
   ],
   "source": [
    "methods = [\"strided\", \"ours\", \"jbu\"]\n",
    "sizes = [224]  + [224 + 4 * i * 14 for i in range(10) ]\n",
    "print(sizes)\n",
    "strided = get_net(True)\n",
    "net = get_net(False)\n",
    "jbu = get_jbu()"
   ]
  },
  {
   "cell_type": "code",
   "execution_count": 9,
   "metadata": {},
   "outputs": [
    {
     "name": "stdout",
     "output_type": "stream",
     "text": [
      "strided\n",
      "ours\n"
     ]
    }
   ],
   "source": [
    "out = []\n",
    "for method in methods:\n",
    "    print(method)\n",
    "    times, mems = [], []\n",
    "    if method == \"strided\":\n",
    "        model = strided\n",
    "    elif method == \"ours\":\n",
    "        model = net\n",
    "    else:\n",
    "        model = jbu\n",
    "\n",
    "    for img_size in sizes:\n",
    "        img_tensor, img_arr = load_img('fig_data/1.jpg', img_size)\n",
    "        img_tensor = img_tensor.cuda().unsqueeze(0)\n",
    "        mem, time = measure_mem_time(img_tensor, model)\n",
    "        times.append(time)\n",
    "        mems.append(mem)\n",
    "        img_tensor = img_tensor.cpu()\n",
    "    out.append(times)\n",
    "    out.append(mems)\n",
    "    "
   ]
  },
  {
   "cell_type": "code",
   "execution_count": null,
   "metadata": {},
   "outputs": [],
   "source": [
    "times = out[i for i in range(0, 6, 2)]\n",
    "mems = out[i for i in range(1, 7, 2)]"
   ]
  },
  {
   "cell_type": "code",
   "execution_count": null,
   "metadata": {},
   "outputs": [
    {
     "data": {
      "text/plain": [
       "[<matplotlib.lines.Line2D at 0x7f8cc57c15d0>]"
      ]
     },
     "execution_count": 15,
     "metadata": {},
     "output_type": "execute_result"
    },
    {
     "data": {
      "image/png": "[encoded data removed]",
      "text/plain": [
       "<Figure size 640x480 with 1 Axes>"
      ]
     },
     "metadata": {},
     "output_type": "display_data"
    }
   ],
   "source": [
    "plt.plot(sizes, out[5])"
   ]
  }
 ],
 "metadata": {
  "kernelspec": {
   "display_name": ".venv",
   "language": "python",
   "name": "python3"
  },
  "language_info": {
   "codemirror_mode": {
    "name": "ipython",
    "version": 3
   },
   "file_extension": ".py",
   "mimetype": "text/x-python",
   "name": "python",
   "nbconvert_exporter": "python",
   "pygments_lexer": "ipython3",
   "version": "3.10.13"
  }
 },
 "nbformat": 4,
 "nbformat_minor": 2
}
