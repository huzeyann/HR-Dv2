{
 "cells": [
  {
   "cell_type": "code",
   "execution_count": 1,
   "metadata": {},
   "outputs": [],
   "source": [
    "# Imports\n",
    "import torch\n",
    "import torch.nn as nn\n",
    "import torchvision.transforms as transforms\n",
    "torch.cuda.empty_cache()\n",
    "\n",
    "\n",
    "import numpy as np\n",
    "from PIL import Image\n",
    "from sklearn.decomposition import PCA\n",
    "import matplotlib.pyplot as plt\n",
    "\n",
    "from typing import Tuple, List, Any, TypedDict"
   ]
  },
  {
   "cell_type": "code",
   "execution_count": 3,
   "metadata": {},
   "outputs": [
    {
     "name": "stderr",
     "output_type": "stream",
     "text": [
      "Using cache found in /home/ronan/.cache/torch/hub/facebookresearch_dinov2_main\n"
     ]
    }
   ],
   "source": [
    "from high_res import HighResDV2\n",
    "shifts = [1, 3, 5, 7]\n",
    "net = HighResDV2(\"dinov2_vits14\", shifts, pattern=\"Moore\", dtype=torch.float32, pca_each=True)\n",
    "net.cuda()\n",
    "pass"
   ]
  },
  {
   "cell_type": "code",
   "execution_count": null,
   "metadata": {},
   "outputs": [],
   "source": [
    "shifted_img_tensors = net.get_shifted_img_batch(plane_tensor).detach().cpu()\n",
    "fig, axs = plt.subplots(2, 4)\n",
    "#fig.tight_layout()\n",
    "for i in [-4, -3, -2, -1]:\n",
    "    row, col = i // 4, i % 4\n",
    "    img = to_img(unnormalize(shifted_img_tensors[-i, :, :, :]) - plane_tensor.cpu() ) #- plane_tensor.cpu()\n",
    "    ax = axs[row, col]\n",
    "    ax.set_axis_off()\n",
    "    ax.imshow(img)"
   ]
  },
  {
   "cell_type": "code",
   "execution_count": null,
   "metadata": {},
   "outputs": [],
   "source": [
    "high_res_plane_features = net(plane_tensor).detach().cpu().squeeze(0).numpy()"
   ]
  },
  {
   "cell_type": "code",
   "execution_count": null,
   "metadata": {},
   "outputs": [],
   "source": [
    "high_res_img = high_res_plane_features.transpose(1, 2, 0)\n",
    "normed = normalize_pca_img(high_res_img)\n",
    "#print(normed[:10, :10, :3])\n",
    "fig, axs = plt.subplots(1, 3)\n",
    "fig.set_size_inches(12, 4)\n",
    "low_res_features = normalise_pca(pcas[0])[:, 2].reshape(PATCH_H, PATCH_W, 1)\n",
    "axs[0].imshow(plane_img)\n",
    "axs[1].imshow(low_res_features)\n",
    "axs[2].imshow(normed[:, :, 2])"
   ]
  },
  {
   "cell_type": "code",
   "execution_count": null,
   "metadata": {},
   "outputs": [],
   "source": [
    "high_res_sketch_features = net(sketch_tensor).detach().cpu().squeeze(0).numpy()[:3, :, :]\n",
    "high_res_img = high_res_sketch_features.transpose(1, 2, 0)\n",
    "normed = normalize_pca_img(high_res_img)\n",
    "#print(normed[:10, :10, :3])\n",
    "fig, axs = plt.subplots(1, 3)\n",
    "fig.set_size_inches(12, 4)\n",
    "low_res_features = normalise_pca(pcas[1])[:, :].reshape(PATCH_H, PATCH_W, 3)\n",
    "axs[0].imshow(sketch_img)\n",
    "axs[1].imshow(low_res_features)\n",
    "axs[2].imshow(normed[:, :, :], interpolation=None)"
   ]
  },
  {
   "cell_type": "code",
   "execution_count": null,
   "metadata": {},
   "outputs": [],
   "source": [
    "plt.imshow(normed[:, :, :])"
   ]
  },
  {
   "cell_type": "code",
   "execution_count": null,
   "metadata": {},
   "outputs": [],
   "source": [
    "high_res_sofc_features = net(sofc_tensor).detach().cpu().squeeze(0).numpy()[:3, :, :]\n",
    "high_res_img = high_res_sofc_features.transpose(1, 2, 0)\n",
    "normed = normalize_pca_img(high_res_img)\n",
    "#print(normed[:10, :10, :3])\n",
    "fig, axs = plt.subplots(1, 3)\n",
    "fig.set_size_inches(12, 4)\n",
    "low_res_features = normalise_pca(pcas[2])[:, :].reshape(PATCH_H, PATCH_W, 3)\n",
    "axs[0].imshow(sofc_img)\n",
    "axs[1].imshow(low_res_features)\n",
    "axs[2].imshow(normed[:, :, :])"
   ]
  }
 ],
 "metadata": {
  "kernelspec": {
   "display_name": ".venv",
   "language": "python",
   "name": "python3"
  },
  "language_info": {
   "codemirror_mode": {
    "name": "ipython",
    "version": 3
   },
   "file_extension": ".py",
   "mimetype": "text/x-python",
   "name": "python",
   "nbconvert_exporter": "python",
   "pygments_lexer": "ipython3",
   "version": "3.10.12"
  }
 },
 "nbformat": 4,
 "nbformat_minor": 2
}
